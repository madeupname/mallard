{
 "cells": [
  {
   "cell_type": "markdown",
   "source": [
    "[Lumibot](https://lumibot.lumiwealth.com) offers a [Pandas backtester](https://lumibot.lumiwealth.com/backtesting.pandas.html) that uses a dictionary of DataFrames, each representing an asset. The following code shows how you can trivially build this from Mallard's DuckDB database.\n",
    "\n",
    "Lumibot requires the following columns in the DataFrame:\n",
    "\n",
    "Index:\n",
    "name: datetime\n",
    "type: datetime64\n",
    "\n",
    "Columns:\n",
    "names: ['open', 'high', 'low', 'close', 'volume']\n",
    "types: float"
   ],
   "metadata": {
    "collapsed": false
   },
   "id": "2eb842c9612ff77"
  },
  {
   "cell_type": "code",
   "source": [
    "import duckdb\n",
    "import configparser\n",
    "import os\n",
    "\n",
    "from lumibot.entities import Asset, Data\n",
    "\n",
    "# Get config file\n",
    "config_file = os.getenv('MALLARD_CONFIG')\n",
    "config = configparser.ConfigParser()\n",
    "config.read(config_file)\n",
    "\n",
    "if not config.getboolean('tiingo', 'has_fundamentals_addon'):\n",
    "    exit(0)\n",
    "\n",
    "db_file = config['DEFAULT']['db_file']\n",
    "eod_table = config['tiingo']['eod_table']\n",
    "\n",
    "\n",
    "def get_pandas_data(symbols: list, is_adjusted=True):\n",
    "    pandas_data = {}\n",
    "    for symbol in symbols:\n",
    "        with duckdb.connect(db_file) as con:\n",
    "            if is_adjusted:\n",
    "                df = con.execute(f\"\"\"\n",
    "                SELECT date as datetime, adj_open as open, adj_high as high, adj_low as low, adj_close as close, adj_volume as volume \n",
    "                FROM {eod_table} WHERE symbol = '{symbol}'\"\"\").df()\n",
    "            else:\n",
    "                df = con.execute(f\"\"\"\n",
    "                SELECT date as datetime, open, high, low, close, volume \n",
    "                FROM {eod_table} WHERE symbol = '{symbol}'\"\"\").df()\n",
    "        # Raise exception if no data\n",
    "        if len(df) == 0:\n",
    "            raise ValueError(f\"No data for {symbol}\")\n",
    "        asset = Asset(\n",
    "            symbol=symbol,\n",
    "            asset_type=Asset.AssetType.STOCK,\n",
    "        )\n",
    "        pandas_data[asset] = Data(\n",
    "            asset,\n",
    "            df,\n",
    "            timestep=\"day\",\n",
    "        )\n",
    "    return pandas_data"
   ],
   "metadata": {
    "collapsed": false,
    "ExecuteTime": {
     "end_time": "2024-06-12T01:30:41.826701Z",
     "start_time": "2024-06-12T01:30:41.823168Z"
    }
   },
   "id": "c4bc1c71543723a4",
   "outputs": [],
   "execution_count": 22
  },
  {
   "metadata": {
    "ExecuteTime": {
     "end_time": "2024-06-12T01:30:53.574382Z",
     "start_time": "2024-06-12T01:30:53.375170Z"
    }
   },
   "cell_type": "code",
   "source": "pandas_data = get_pandas_data(['META', 'AAPL', 'AMZN', 'NFLX', 'GOOGL'])\n",
   "id": "a2ae5adfcf777f96",
   "outputs": [],
   "execution_count": 24
  },
  {
   "cell_type": "code",
   "source": "pandas_data[Asset('AAPL')].df.head()",
   "metadata": {
    "collapsed": false,
    "ExecuteTime": {
     "end_time": "2024-06-12T01:29:37.991268Z",
     "start_time": "2024-06-12T01:29:37.985841Z"
    }
   },
   "id": "d89224dedabdbcbf",
   "outputs": [
    {
     "data": {
      "text/plain": [
       "                               open      high       low     close     volume\n",
       "datetime                                                                    \n",
       "1980-12-12 00:00:00-05:00  0.099442  0.099857  0.099442  0.099442  469034069\n",
       "1980-12-15 00:00:00-05:00  0.094703  0.094703  0.094253  0.094253  175884975\n",
       "1980-12-16 00:00:00-05:00  0.087751  0.087751  0.087336  0.087336  105728105\n",
       "1980-12-17 00:00:00-05:00  0.089480  0.089930  0.089480  0.089480   86441686\n",
       "1980-12-18 00:00:00-05:00  0.092109  0.092524  0.092109  0.092109   73449673"
      ],
      "text/html": [
       "<div>\n",
       "<style scoped>\n",
       "    .dataframe tbody tr th:only-of-type {\n",
       "        vertical-align: middle;\n",
       "    }\n",
       "\n",
       "    .dataframe tbody tr th {\n",
       "        vertical-align: top;\n",
       "    }\n",
       "\n",
       "    .dataframe thead th {\n",
       "        text-align: right;\n",
       "    }\n",
       "</style>\n",
       "<table border=\"1\" class=\"dataframe\">\n",
       "  <thead>\n",
       "    <tr style=\"text-align: right;\">\n",
       "      <th></th>\n",
       "      <th>open</th>\n",
       "      <th>high</th>\n",
       "      <th>low</th>\n",
       "      <th>close</th>\n",
       "      <th>volume</th>\n",
       "    </tr>\n",
       "    <tr>\n",
       "      <th>datetime</th>\n",
       "      <th></th>\n",
       "      <th></th>\n",
       "      <th></th>\n",
       "      <th></th>\n",
       "      <th></th>\n",
       "    </tr>\n",
       "  </thead>\n",
       "  <tbody>\n",
       "    <tr>\n",
       "      <th>1980-12-12 00:00:00-05:00</th>\n",
       "      <td>0.099442</td>\n",
       "      <td>0.099857</td>\n",
       "      <td>0.099442</td>\n",
       "      <td>0.099442</td>\n",
       "      <td>469034069</td>\n",
       "    </tr>\n",
       "    <tr>\n",
       "      <th>1980-12-15 00:00:00-05:00</th>\n",
       "      <td>0.094703</td>\n",
       "      <td>0.094703</td>\n",
       "      <td>0.094253</td>\n",
       "      <td>0.094253</td>\n",
       "      <td>175884975</td>\n",
       "    </tr>\n",
       "    <tr>\n",
       "      <th>1980-12-16 00:00:00-05:00</th>\n",
       "      <td>0.087751</td>\n",
       "      <td>0.087751</td>\n",
       "      <td>0.087336</td>\n",
       "      <td>0.087336</td>\n",
       "      <td>105728105</td>\n",
       "    </tr>\n",
       "    <tr>\n",
       "      <th>1980-12-17 00:00:00-05:00</th>\n",
       "      <td>0.089480</td>\n",
       "      <td>0.089930</td>\n",
       "      <td>0.089480</td>\n",
       "      <td>0.089480</td>\n",
       "      <td>86441686</td>\n",
       "    </tr>\n",
       "    <tr>\n",
       "      <th>1980-12-18 00:00:00-05:00</th>\n",
       "      <td>0.092109</td>\n",
       "      <td>0.092524</td>\n",
       "      <td>0.092109</td>\n",
       "      <td>0.092109</td>\n",
       "      <td>73449673</td>\n",
       "    </tr>\n",
       "  </tbody>\n",
       "</table>\n",
       "</div>"
      ]
     },
     "execution_count": 21,
     "metadata": {},
     "output_type": "execute_result"
    }
   ],
   "execution_count": 21
  },
  {
   "metadata": {},
   "cell_type": "code",
   "outputs": [],
   "execution_count": null,
   "source": "",
   "id": "cbababab12f01339"
  }
 ],
 "metadata": {
  "kernelspec": {
   "display_name": "Python 3",
   "language": "python",
   "name": "python3"
  },
  "language_info": {
   "codemirror_mode": {
    "name": "ipython",
    "version": 2
   },
   "file_extension": ".py",
   "mimetype": "text/x-python",
   "name": "python",
   "nbconvert_exporter": "python",
   "pygments_lexer": "ipython2",
   "version": "2.7.6"
  }
 },
 "nbformat": 4,
 "nbformat_minor": 5
}
