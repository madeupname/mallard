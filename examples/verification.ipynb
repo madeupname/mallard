{
 "cells": [
  {
   "cell_type": "code",
   "outputs": [],
   "source": [
    "import configparser\n",
    "import os\n",
    "import duckdb\n",
    "\n",
    "# Set MALLARD_CONFIG environment variable to where the config file is located\n",
    "os.environ['MALLARD_CONFIG'] = '/data/mallard/config.ini'\n",
    "\n",
    "# Get config file\n",
    "config_file = os.getenv('MALLARD_CONFIG')\n",
    "config = configparser.ConfigParser()\n",
    "config.read(config_file)\n",
    "\n",
    "db_file = config['DEFAULT']['db_file']"
   ],
   "metadata": {
    "collapsed": false,
    "ExecuteTime": {
     "end_time": "2024-05-17T04:32:59.496335Z",
     "start_time": "2024-05-17T04:32:59.493371Z"
    }
   },
   "id": "af734666769d5568",
   "execution_count": 18
  },
  {
   "cell_type": "markdown",
   "source": [
    "Here are all the tables in my database. tiingo_fundamentals_amended_distinct is in development, there is a function with description to create it, but it can be ignored for now."
   ],
   "metadata": {
    "collapsed": false
   },
   "id": "a8fe1a5f4a510fd9"
  },
  {
   "cell_type": "code",
   "outputs": [
    {
     "name": "stdout",
     "output_type": "stream",
     "text": [
      "┌──────────────────────────────────────┐\n",
      "│                 name                 │\n",
      "│               varchar                │\n",
      "├──────────────────────────────────────┤\n",
      "│ alembic_version                      │\n",
      "│ daily_metrics                        │\n",
      "│ fundamental_metrics                  │\n",
      "│ inflation                            │\n",
      "│ tiingo_eod                           │\n",
      "│ tiingo_fundamental_metrics           │\n",
      "│ tiingo_fundamentals_amended          │\n",
      "│ tiingo_fundamentals_amended_distinct │\n",
      "│ tiingo_fundamentals_daily            │\n",
      "│ tiingo_fundamentals_meta             │\n",
      "│ tiingo_fundamentals_reported         │\n",
      "│ tiingo_symbols                       │\n",
      "├──────────────────────────────────────┤\n",
      "│               12 rows                │\n",
      "└──────────────────────────────────────┘\n"
     ]
    }
   ],
   "source": [
    "with duckdb.connect(db_file) as con:\n",
    "    con.sql(\"SHOW TABLES\").show()"
   ],
   "metadata": {
    "collapsed": false,
    "ExecuteTime": {
     "end_time": "2024-05-17T04:32:59.540047Z",
     "start_time": "2024-05-17T04:32:59.509345Z"
    }
   },
   "id": "26ef44ddeecc033d",
   "execution_count": 19
  },
  {
   "cell_type": "markdown",
   "source": [
    "This has symbols taken from supported_tickers.csv, after filters have been applied. Note that Tiingo doesn't include the vendor_symbol_id (permaTicker) in this file."
   ],
   "metadata": {
    "collapsed": false
   },
   "id": "ed9e910d59b77bec"
  },
  {
   "cell_type": "code",
   "outputs": [
    {
     "name": "stdout",
     "output_type": "stream",
     "text": [
      "┌────────────────┬─────────────┬─────────┬─────────┬─────────┬─────────┐\n",
      "│  column_name   │ column_type │  null   │   key   │ default │  extra  │\n",
      "│    varchar     │   varchar   │ varchar │ varchar │ varchar │ varchar │\n",
      "├────────────────┼─────────────┼─────────┼─────────┼─────────┼─────────┤\n",
      "│ symbol         │ VARCHAR     │ NO      │ PRI     │ NULL    │ NULL    │\n",
      "│ exchange       │ VARCHAR     │ YES     │ NULL    │ NULL    │ NULL    │\n",
      "│ asset_type     │ VARCHAR     │ YES     │ NULL    │ NULL    │ NULL    │\n",
      "│ price_currency │ VARCHAR     │ YES     │ NULL    │ NULL    │ NULL    │\n",
      "│ start_date     │ DATE        │ YES     │ NULL    │ NULL    │ NULL    │\n",
      "│ end_date       │ DATE        │ YES     │ NULL    │ NULL    │ NULL    │\n",
      "└────────────────┴─────────────┴─────────┴─────────┴─────────┴─────────┘\n",
      "\n",
      "┌───────────────┐\n",
      "│ count(symbol) │\n",
      "│     int64     │\n",
      "├───────────────┤\n",
      "│         10011 │\n",
      "└───────────────┘\n",
      "\n",
      "┌─────────┬──────────┬────────────┬────────────────┬────────────┬────────────┐\n",
      "│ symbol  │ exchange │ asset_type │ price_currency │ start_date │  end_date  │\n",
      "│ varchar │ varchar  │  varchar   │    varchar     │    date    │    date    │\n",
      "├─────────┼──────────┼────────────┼────────────────┼────────────┼────────────┤\n",
      "│ A       │ NYSE     │ Stock      │ USD            │ 1999-11-18 │ 2024-05-14 │\n",
      "│ AA      │ NYSE     │ Stock      │ USD            │ 2016-10-18 │ 2024-05-14 │\n",
      "│ AAC     │ NYSE     │ Stock      │ USD            │ 2021-03-25 │ 2023-11-06 │\n",
      "│ AACC    │ NASDAQ   │ Stock      │ USD            │ 2004-02-05 │ 2013-10-17 │\n",
      "│ AACH    │ PINK     │ Stock      │ USD            │ 2019-09-03 │ 2020-12-14 │\n",
      "└─────────┴──────────┴────────────┴────────────────┴────────────┴────────────┘\n"
     ]
    }
   ],
   "source": [
    "with duckdb.connect(db_file) as con:\n",
    "    con.sql(\"DESCRIBE tiingo_symbols\").show()\n",
    "    con.sql(\"SELECT COUNT(symbol) FROM tiingo_symbols\").show()\n",
    "    con.sql(\"SELECT * FROM tiingo_symbols LIMIT 5\").show()\n"
   ],
   "metadata": {
    "collapsed": false,
    "ExecuteTime": {
     "end_time": "2024-05-17T04:32:59.556593Z",
     "start_time": "2024-05-17T04:32:59.540550Z"
    }
   },
   "id": "c25b6ed2b123ef56",
   "execution_count": 20
  },
  {
   "cell_type": "markdown",
   "source": [
    "This has metadata for the fundamentals. Even if you don't have the fundamentals addon, we use this to ensure we're getting stocks that are **reporting** fundamentals to the SEC."
   ],
   "metadata": {
    "collapsed": false
   },
   "id": "7b346ad0eaa1529d"
  },
  {
   "cell_type": "code",
   "outputs": [
    {
     "name": "stdout",
     "output_type": "stream",
     "text": [
      "┌────────────────────────┬──────────────────────────┬─────────┬─────────┬─────────┬─────────┐\n",
      "│      column_name       │       column_type        │  null   │   key   │ default │  extra  │\n",
      "│        varchar         │         varchar          │ varchar │ varchar │ varchar │ varchar │\n",
      "├────────────────────────┼──────────────────────────┼─────────┼─────────┼─────────┼─────────┤\n",
      "│ vendor_symbol_id       │ VARCHAR                  │ NO      │ PRI     │ NULL    │ NULL    │\n",
      "│ symbol                 │ VARCHAR                  │ YES     │ NULL    │ NULL    │ NULL    │\n",
      "│ name                   │ VARCHAR                  │ YES     │ NULL    │ NULL    │ NULL    │\n",
      "│ is_active              │ BOOLEAN                  │ YES     │ NULL    │ NULL    │ NULL    │\n",
      "│ is_adr                 │ BOOLEAN                  │ YES     │ NULL    │ NULL    │ NULL    │\n",
      "│ sector                 │ VARCHAR                  │ YES     │ NULL    │ NULL    │ NULL    │\n",
      "│ industry               │ VARCHAR                  │ YES     │ NULL    │ NULL    │ NULL    │\n",
      "│ sic_code               │ VARCHAR                  │ YES     │ NULL    │ NULL    │ NULL    │\n",
      "│ sic_sector             │ VARCHAR                  │ YES     │ NULL    │ NULL    │ NULL    │\n",
      "│ sic_industry           │ VARCHAR                  │ YES     │ NULL    │ NULL    │ NULL    │\n",
      "│ reporting_currency     │ VARCHAR                  │ YES     │ NULL    │ NULL    │ NULL    │\n",
      "│ location               │ VARCHAR                  │ YES     │ NULL    │ NULL    │ NULL    │\n",
      "│ company_website        │ VARCHAR                  │ YES     │ NULL    │ NULL    │ NULL    │\n",
      "│ sec_filing_website     │ VARCHAR                  │ YES     │ NULL    │ NULL    │ NULL    │\n",
      "│ statement_last_updated │ TIMESTAMP WITH TIME ZONE │ YES     │ NULL    │ NULL    │ NULL    │\n",
      "│ daily_last_updated     │ TIMESTAMP WITH TIME ZONE │ YES     │ NULL    │ NULL    │ NULL    │\n",
      "│ vendor_entity_id       │ VARCHAR                  │ YES     │ NULL    │ NULL    │ NULL    │\n",
      "├────────────────────────┴──────────────────────────┴─────────┴─────────┴─────────┴─────────┤\n",
      "│ 17 rows                                                                         6 columns │\n",
      "└───────────────────────────────────────────────────────────────────────────────────────────┘\n",
      "\n",
      "┌───────────────┐\n",
      "│ count(symbol) │\n",
      "│     int64     │\n",
      "├───────────────┤\n",
      "│         17373 │\n",
      "└───────────────┘\n",
      "\n",
      "┌──────────────────┬─────────┬───┬──────────────────────┬──────────────────────┬──────────────────┐\n",
      "│ vendor_symbol_id │ symbol  │ … │ statement_last_upd…  │  daily_last_updated  │ vendor_entity_id │\n",
      "│     varchar      │ varchar │   │ timestamp with tim…  │ timestamp with tim…  │     varchar      │\n",
      "├──────────────────┼─────────┼───┼──────────────────────┼──────────────────────┼──────────────────┤\n",
      "│ US000000000247   │ A       │ … │ 2024-03-06 02:01:0…  │ 2024-05-15 00:51:0…  │ 196290           │\n",
      "│ US000000000091   │ AA      │ … │ 2024-05-03 14:01:0…  │ 2024-05-15 13:30:0…  │ 124392           │\n",
      "│ US000000057010   │ AAAB    │ … │ 2021-10-20 19:53:1…  │ 2021-10-20 19:53:1…  │ 122827           │\n",
      "│ US000000040990   │ AABC    │ … │ 2021-10-20 19:55:0…  │ 2021-10-20 19:55:0…  │ 165444           │\n",
      "│ US000000094541   │ AAC     │ … │ 2023-11-09 02:01:0…  │ 2023-11-09 02:01:0…  │ 633208           │\n",
      "├──────────────────┴─────────┴───┴──────────────────────┴──────────────────────┴──────────────────┤\n",
      "│ 5 rows                                                                     17 columns (5 shown) │\n",
      "└─────────────────────────────────────────────────────────────────────────────────────────────────┘\n"
     ]
    }
   ],
   "source": [
    "with duckdb.connect(db_file) as con:\n",
    "    con.sql(\"DESCRIBE tiingo_fundamentals_meta\").show()\n",
    "    con.sql(\"SELECT COUNT(symbol) FROM tiingo_fundamentals_meta\").show()\n",
    "    con.sql(\"SELECT * FROM tiingo_fundamentals_meta LIMIT 5\").show()"
   ],
   "metadata": {
    "collapsed": false,
    "ExecuteTime": {
     "end_time": "2024-05-17T04:32:59.574110Z",
     "start_time": "2024-05-17T04:32:59.557597Z"
    }
   },
   "id": "ff5242a848fc97eb",
   "execution_count": 21
  },
  {
   "cell_type": "markdown",
   "source": [
    "There are several nuances to fundamentals data, see the docs: https://www.tiingo.com/documentation/fundamentals\n",
    "You'll want to do a call to the descriptions endpoint to see what all the dataCodes mean.\n",
    "You'll note I didn't normalize all the columns to make loading a little easier.\n",
    "\n",
    "Fundamentals amended uses the fiscal period end date and has amendments (corrections) submitted to the SEC."
   ],
   "metadata": {
    "collapsed": false
   },
   "id": "f821d31101adba83"
  },
  {
   "cell_type": "code",
   "outputs": [
    {
     "name": "stdout",
     "output_type": "stream",
     "text": [
      "┌──────────────────┬─────────────┬─────────┬─────────┬─────────┬─────────┐\n",
      "│   column_name    │ column_type │  null   │   key   │ default │  extra  │\n",
      "│     varchar      │   varchar   │ varchar │ varchar │ varchar │ varchar │\n",
      "├──────────────────┼─────────────┼─────────┼─────────┼─────────┼─────────┤\n",
      "│ vendor_symbol_id │ VARCHAR     │ YES     │ NULL    │ NULL    │ NULL    │\n",
      "│ symbol           │ VARCHAR     │ YES     │ NULL    │ NULL    │ NULL    │\n",
      "│ date             │ DATE        │ YES     │ NULL    │ NULL    │ NULL    │\n",
      "│ year             │ INTEGER     │ YES     │ NULL    │ NULL    │ NULL    │\n",
      "│ quarter          │ INTEGER     │ YES     │ NULL    │ NULL    │ NULL    │\n",
      "│ statementType    │ VARCHAR     │ YES     │ NULL    │ NULL    │ NULL    │\n",
      "│ dataCode         │ VARCHAR     │ YES     │ NULL    │ NULL    │ NULL    │\n",
      "│ value            │ DOUBLE      │ YES     │ NULL    │ NULL    │ NULL    │\n",
      "└──────────────────┴─────────────┴─────────┴─────────┴─────────┴─────────┘\n",
      "┌───────────────┐\n",
      "│ count(symbol) │\n",
      "│     int64     │\n",
      "├───────────────┤\n",
      "│      58311641 │\n",
      "└───────────────┘\n",
      "\n",
      "┌──────────────────┬─────────┬────────────┬───────┬─────────┬─────────────────┬───────────────┬─────────────┐\n",
      "│ vendor_symbol_id │ symbol  │    date    │ year  │ quarter │  statementType  │   dataCode    │    value    │\n",
      "│     varchar      │ varchar │    date    │ int32 │  int32  │     varchar     │    varchar    │   double    │\n",
      "├──────────────────┼─────────┼────────────┼───────┼─────────┼─────────────────┼───────────────┼─────────────┤\n",
      "│ US000000066196   │ CNCX    │ 2000-03-31 │  2000 │       1 │ incomeStatement │ opinc         │ -41044000.0 │\n",
      "│ US000000066196   │ CNCX    │ 2000-03-31 │  2000 │       1 │ incomeStatement │ opex          │  46706000.0 │\n",
      "│ US000000066196   │ CNCX    │ 2000-03-31 │  2000 │       1 │ cashFlow        │ ncfo          │  37761000.0 │\n",
      "│ US000000066196   │ CNCX    │ 2000-03-31 │  2000 │       1 │ incomeStatement │ grossProfit   │   5662000.0 │\n",
      "│ US000000066196   │ CNCX    │ 2000-03-31 │  2000 │       1 │ incomeStatement │ netIncDiscOps │         0.0 │\n",
      "└──────────────────┴─────────┴────────────┴───────┴─────────┴─────────────────┴───────────────┴─────────────┘\n"
     ]
    }
   ],
   "source": [
    "with duckdb.connect(db_file) as con:\n",
    "    con.sql(\"DESCRIBE tiingo_fundamentals_amended\").show()\n",
    "    con.sql(\"SELECT COUNT(symbol) FROM tiingo_fundamentals_amended\").show()\n",
    "    con.sql(\"SELECT * FROM tiingo_fundamentals_amended LIMIT 5\").show()\n"
   ],
   "metadata": {
    "collapsed": false,
    "ExecuteTime": {
     "end_time": "2024-05-17T04:32:59.886908Z",
     "start_time": "2024-05-17T04:32:59.575110Z"
    }
   },
   "id": "910fa075674d8ee5",
   "execution_count": 22
  },
  {
   "cell_type": "markdown",
   "source": [
    "Fundamentals reported uses the filing date, which can be up to 90 days after the fiscal period end date. \n",
    "The data is as reported (no corrections) and suitable for backtesting against latest quarter or annual data.\n",
    "Annual reports have quarter == 0.\n",
    "Yes, there are ~10% fewer rows than amended and the earliest start date is 1993 vs. 1990. There is no filtering, that's straight from Tiingo. "
   ],
   "metadata": {
    "collapsed": false
   },
   "id": "8cd21fa98deaeab7"
  },
  {
   "cell_type": "code",
   "outputs": [
    {
     "name": "stdout",
     "output_type": "stream",
     "text": [
      "┌──────────────────┬─────────────┬─────────┬─────────┬─────────┬─────────┐\n",
      "│   column_name    │ column_type │  null   │   key   │ default │  extra  │\n",
      "│     varchar      │   varchar   │ varchar │ varchar │ varchar │ varchar │\n",
      "├──────────────────┼─────────────┼─────────┼─────────┼─────────┼─────────┤\n",
      "│ vendor_symbol_id │ VARCHAR     │ YES     │ NULL    │ NULL    │ NULL    │\n",
      "│ symbol           │ VARCHAR     │ YES     │ NULL    │ NULL    │ NULL    │\n",
      "│ date             │ DATE        │ YES     │ NULL    │ NULL    │ NULL    │\n",
      "│ year             │ INTEGER     │ YES     │ NULL    │ NULL    │ NULL    │\n",
      "│ quarter          │ INTEGER     │ YES     │ NULL    │ NULL    │ NULL    │\n",
      "│ statementType    │ VARCHAR     │ YES     │ NULL    │ NULL    │ NULL    │\n",
      "│ dataCode         │ VARCHAR     │ YES     │ NULL    │ NULL    │ NULL    │\n",
      "│ value            │ DOUBLE      │ YES     │ NULL    │ NULL    │ NULL    │\n",
      "└──────────────────┴─────────────┴─────────┴─────────┴─────────┴─────────┘\n",
      "┌───────────────┐\n",
      "│ count(symbol) │\n",
      "│     int64     │\n",
      "├───────────────┤\n",
      "│      52712655 │\n",
      "└───────────────┘\n",
      "\n",
      "┌──────────────────┬─────────┬────────────┬───────┬─────────┬───────────────┬────────────────┬───────────┐\n",
      "│ vendor_symbol_id │ symbol  │    date    │ year  │ quarter │ statementType │    dataCode    │   value   │\n",
      "│     varchar      │ varchar │    date    │ int32 │  int32  │    varchar    │    varchar     │  double   │\n",
      "├──────────────────┼─────────┼────────────┼───────┼─────────┼───────────────┼────────────────┼───────────┤\n",
      "│ US000000040991   │ AACPF   │ 2012-08-30 │  2012 │       0 │ balanceSheet  │ sharesBasic    │ 8533333.0 │\n",
      "│ US000000040991   │ AACPF   │ 2012-08-30 │  2012 │       0 │ balanceSheet  │ acctRec        │       0.0 │\n",
      "│ US000000040991   │ AACPF   │ 2012-08-30 │  2012 │       0 │ balanceSheet  │ taxLiabilities │       0.0 │\n",
      "│ US000000040991   │ AACPF   │ 2012-08-30 │  2012 │       0 │ balanceSheet  │ cashAndEq      │   78555.0 │\n",
      "│ US000000040991   │ AACPF   │ 2012-08-30 │  2012 │       0 │ cashFlow      │ freeCashFlow   │ -729763.0 │\n",
      "└──────────────────┴─────────┴────────────┴───────┴─────────┴───────────────┴────────────────┴───────────┘\n"
     ]
    }
   ],
   "source": [
    "with duckdb.connect(db_file) as con:\n",
    "    con.sql(\"DESCRIBE tiingo_fundamentals_reported\").show()\n",
    "    con.sql(\"SELECT COUNT(symbol) FROM tiingo_fundamentals_reported\").show()\n",
    "    con.sql(\"SELECT * FROM tiingo_fundamentals_reported LIMIT 5\").show()\n"
   ],
   "metadata": {
    "collapsed": false,
    "ExecuteTime": {
     "end_time": "2024-05-17T04:33:00.067522Z",
     "start_time": "2024-05-17T04:32:59.887912Z"
    }
   },
   "id": "9d424c9b598cdb94",
   "execution_count": 23
  },
  {
   "cell_type": "markdown",
   "source": [
    "Fundamentals daily includes metrics generated by Tiingo, not Mallard. Unlike their other fundamental tables, it has a column per metric. \n",
    "The docs state they will add new metrics so this may change over time."
   ],
   "metadata": {
    "collapsed": false
   },
   "id": "dbc724b6e64a9389"
  },
  {
   "cell_type": "code",
   "outputs": [
    {
     "name": "stdout",
     "output_type": "stream",
     "text": [
      "┌──────────────────┬─────────────┬─────────┬─────────┬─────────┬─────────┐\n",
      "│   column_name    │ column_type │  null   │   key   │ default │  extra  │\n",
      "│     varchar      │   varchar   │ varchar │ varchar │ varchar │ varchar │\n",
      "├──────────────────┼─────────────┼─────────┼─────────┼─────────┼─────────┤\n",
      "│ vendor_symbol_id │ VARCHAR     │ YES     │ NULL    │ NULL    │ NULL    │\n",
      "│ symbol           │ VARCHAR     │ YES     │ NULL    │ NULL    │ NULL    │\n",
      "│ date             │ DATE        │ YES     │ NULL    │ NULL    │ NULL    │\n",
      "│ market_cap       │ DOUBLE      │ YES     │ NULL    │ NULL    │ NULL    │\n",
      "│ enterprise_val   │ DOUBLE      │ YES     │ NULL    │ NULL    │ NULL    │\n",
      "│ pe_ratio         │ DOUBLE      │ YES     │ NULL    │ NULL    │ NULL    │\n",
      "│ pb_ratio         │ DOUBLE      │ YES     │ NULL    │ NULL    │ NULL    │\n",
      "│ trailing_peg_1y  │ DOUBLE      │ YES     │ NULL    │ NULL    │ NULL    │\n",
      "└──────────────────┴─────────────┴─────────┴─────────┴─────────┴─────────┘\n",
      "\n",
      "┌───────────────┐\n",
      "│ count(symbol) │\n",
      "│     int64     │\n",
      "├───────────────┤\n",
      "│      27611951 │\n",
      "└───────────────┘\n",
      "\n",
      "┌──────────────────┬─────────┬────────────┬───────────────┬───┬────────────────┬──────────────────┬────────────────────┐\n",
      "│ vendor_symbol_id │ symbol  │    date    │  market_cap   │ … │    pe_ratio    │     pb_ratio     │  trailing_peg_1y   │\n",
      "│     varchar      │ varchar │    date    │    double     │   │     double     │      double      │       double       │\n",
      "├──────────────────┼─────────┼────────────┼───────────────┼───┼────────────────┼──────────────────┼────────────────────┤\n",
      "│ US000000000247   │ A       │ 1999-11-18 │ 19580000000.0 │ … │     38.2421875 │ 5.78947368421053 │     -0.09560546875 │\n",
      "│ US000000000247   │ A       │ 1999-11-19 │ 17969100000.0 │ … │  35.0958984375 │ 5.31315789473684 │  -0.08773974609375 │\n",
      "│ US000000000247   │ A       │ 1999-11-22 │ 19580000000.0 │ … │     38.2421875 │ 5.78947368421053 │     -0.09560546875 │\n",
      "│ US000000000247   │ A       │ 1999-11-23 │ 17911250000.0 │ … │ 34.98291015625 │ 5.29605263157895 │ -0.087457275390625 │\n",
      "│ US000000000247   │ A       │ 1999-11-24 │ 18271700000.0 │ … │  35.6869140625 │ 5.40263157894737 │  -0.08921728515625 │\n",
      "├──────────────────┴─────────┴────────────┴───────────────┴───┴────────────────┴──────────────────┴────────────────────┤\n",
      "│ 5 rows                                                                                           8 columns (7 shown) │\n",
      "└──────────────────────────────────────────────────────────────────────────────────────────────────────────────────────┘\n"
     ]
    }
   ],
   "source": [
    "with duckdb.connect(db_file) as con:\n",
    "    con.sql(\"DESCRIBE tiingo_fundamentals_daily\").show()\n",
    "    con.sql(\"SELECT COUNT(symbol) FROM tiingo_fundamentals_daily\").show()\n",
    "    con.sql(\"SELECT * FROM tiingo_fundamentals_daily LIMIT 5\").show()\n"
   ],
   "metadata": {
    "collapsed": false,
    "ExecuteTime": {
     "end_time": "2024-05-17T04:33:00.133109Z",
     "start_time": "2024-05-17T04:33:00.068526Z"
    }
   },
   "id": "20bf197ee424284c",
   "execution_count": 24
  },
  {
   "cell_type": "markdown",
   "source": [
    "Daily metrics are calculated by Mallard. It has a metric per column like fundamentals daily and they are created as needed per the config file.\n",
    "Many metrics are planned, and as an OLAP DB, DuckDB has no problem with very wide tables. \n",
    "Note that MACD is a moving average so early values are NULL. "
   ],
   "metadata": {
    "collapsed": false
   },
   "id": "c97f75898b8c0370"
  },
  {
   "cell_type": "code",
   "outputs": [
    {
     "name": "stdout",
     "output_type": "stream",
     "text": [
      "┌─────────────────────────┬─────────────┬─────────┬─────────┬─────────┬─────────┐\n",
      "│       column_name       │ column_type │  null   │   key   │ default │  extra  │\n",
      "│         varchar         │   varchar   │ varchar │ varchar │ varchar │ varchar │\n",
      "├─────────────────────────┼─────────────┼─────────┼─────────┼─────────┼─────────┤\n",
      "│ vendor_symbol_id        │ VARCHAR     │ NO      │ PRI     │ NULL    │ NULL    │\n",
      "│ symbol                  │ VARCHAR     │ YES     │ NULL    │ NULL    │ NULL    │\n",
      "│ date                    │ DATE        │ NO      │ PRI     │ NULL    │ NULL    │\n",
      "│ trading_value           │ DOUBLE      │ YES     │ NULL    │ NULL    │ NULL    │\n",
      "│ avg_daily_trading_value │ DOUBLE      │ YES     │ NULL    │ NULL    │ NULL    │\n",
      "│ macd                    │ DOUBLE      │ YES     │ NULL    │ NULL    │ NULL    │\n",
      "│ macd_signal             │ DOUBLE      │ YES     │ NULL    │ NULL    │ NULL    │\n",
      "│ macd_hist               │ DOUBLE      │ YES     │ NULL    │ NULL    │ NULL    │\n",
      "│ has_min_trading_value   │ DOUBLE      │ YES     │ NULL    │ NULL    │ NULL    │\n",
      "└─────────────────────────┴─────────────┴─────────┴─────────┴─────────┴─────────┘\n",
      "\n",
      "┌───────────────┐\n",
      "│ count(symbol) │\n",
      "│     int64     │\n",
      "├───────────────┤\n",
      "│      32257651 │\n",
      "└───────────────┘\n",
      "\n",
      "┌──────────────────┬─────────┬────────────┬───┬────────┬─────────────┬───────────┬──────────────────────┐\n",
      "│ vendor_symbol_id │ symbol  │    date    │ … │  macd  │ macd_signal │ macd_hist │ has_min_trading_va…  │\n",
      "│     varchar      │ varchar │    date    │   │ double │   double    │  double   │        double        │\n",
      "├──────────────────┼─────────┼────────────┼───┼────────┼─────────────┼───────────┼──────────────────────┤\n",
      "│ US000000000235   │ VMC     │ 1988-01-05 │ … │   NULL │        NULL │      NULL │                  0.0 │\n",
      "│ US000000000235   │ VMC     │ 1988-01-06 │ … │   NULL │        NULL │      NULL │                  0.0 │\n",
      "│ US000000000235   │ VMC     │ 1988-01-07 │ … │   NULL │        NULL │      NULL │                  0.0 │\n",
      "│ US000000000235   │ VMC     │ 1988-01-08 │ … │   NULL │        NULL │      NULL │                  0.0 │\n",
      "│ US000000000235   │ VMC     │ 1988-01-11 │ … │   NULL │        NULL │      NULL │                  0.0 │\n",
      "├──────────────────┴─────────┴────────────┴───┴────────┴─────────────┴───────────┴──────────────────────┤\n",
      "│ 5 rows                                                                            9 columns (7 shown) │\n",
      "└───────────────────────────────────────────────────────────────────────────────────────────────────────┘\n"
     ]
    }
   ],
   "source": [
    "with duckdb.connect(db_file) as con:\n",
    "    con.sql(\"DESCRIBE daily_metrics\").show()\n",
    "    con.sql(\"SELECT COUNT(symbol) FROM daily_metrics\").show()\n",
    "    con.sql(\"SELECT * FROM daily_metrics LIMIT 5\").show()\n"
   ],
   "metadata": {
    "collapsed": false,
    "ExecuteTime": {
     "end_time": "2024-05-17T04:33:00.204972Z",
     "start_time": "2024-05-17T04:33:00.134112Z"
    }
   },
   "id": "3d1bec9b26205fe4",
   "execution_count": 25
  }
 ],
 "metadata": {
  "kernelspec": {
   "display_name": "Python 3",
   "language": "python",
   "name": "python3"
  },
  "language_info": {
   "codemirror_mode": {
    "name": "ipython",
    "version": 2
   },
   "file_extension": ".py",
   "mimetype": "text/x-python",
   "name": "python",
   "nbconvert_exporter": "python",
   "pygments_lexer": "ipython2",
   "version": "2.7.6"
  }
 },
 "nbformat": 4,
 "nbformat_minor": 5
}
